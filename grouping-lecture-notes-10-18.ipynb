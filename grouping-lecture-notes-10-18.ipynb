{
 "cells": [
  {
   "cell_type": "markdown",
   "id": "bc946539-4c98-4bc6-a7c6-eb5acd12b61c",
   "metadata": {},
   "source": [
    "# Grouping\n",
    "\n",
    "https://carmengg.github.io/eds-220-book/lectures/lesson-6-groupby.html\n",
    "\n",
    "We will use palmer penguins data"
   ]
  },
  {
   "cell_type": "code",
   "execution_count": 3,
   "id": "9445439b-80f4-4f87-b6e4-df770583b84b",
   "metadata": {
    "tags": []
   },
   "outputs": [
    {
     "name": "stdout",
     "output_type": "stream",
     "text": [
      "344\n"
     ]
    },
    {
     "data": {
      "text/html": [
       "<div>\n",
       "<style scoped>\n",
       "    .dataframe tbody tr th:only-of-type {\n",
       "        vertical-align: middle;\n",
       "    }\n",
       "\n",
       "    .dataframe tbody tr th {\n",
       "        vertical-align: top;\n",
       "    }\n",
       "\n",
       "    .dataframe thead th {\n",
       "        text-align: right;\n",
       "    }\n",
       "</style>\n",
       "<table border=\"1\" class=\"dataframe\">\n",
       "  <thead>\n",
       "    <tr style=\"text-align: right;\">\n",
       "      <th></th>\n",
       "      <th>species</th>\n",
       "      <th>island</th>\n",
       "      <th>bill_length_mm</th>\n",
       "      <th>bill_depth_mm</th>\n",
       "      <th>flipper_length_mm</th>\n",
       "      <th>body_mass_g</th>\n",
       "      <th>sex</th>\n",
       "      <th>year</th>\n",
       "    </tr>\n",
       "  </thead>\n",
       "  <tbody>\n",
       "    <tr>\n",
       "      <th>0</th>\n",
       "      <td>Adelie</td>\n",
       "      <td>Torgersen</td>\n",
       "      <td>39.1</td>\n",
       "      <td>18.7</td>\n",
       "      <td>181.0</td>\n",
       "      <td>3750.0</td>\n",
       "      <td>male</td>\n",
       "      <td>2007</td>\n",
       "    </tr>\n",
       "    <tr>\n",
       "      <th>1</th>\n",
       "      <td>Adelie</td>\n",
       "      <td>Torgersen</td>\n",
       "      <td>39.5</td>\n",
       "      <td>17.4</td>\n",
       "      <td>186.0</td>\n",
       "      <td>3800.0</td>\n",
       "      <td>female</td>\n",
       "      <td>2007</td>\n",
       "    </tr>\n",
       "    <tr>\n",
       "      <th>2</th>\n",
       "      <td>Adelie</td>\n",
       "      <td>Torgersen</td>\n",
       "      <td>40.3</td>\n",
       "      <td>18.0</td>\n",
       "      <td>195.0</td>\n",
       "      <td>3250.0</td>\n",
       "      <td>female</td>\n",
       "      <td>2007</td>\n",
       "    </tr>\n",
       "    <tr>\n",
       "      <th>3</th>\n",
       "      <td>Adelie</td>\n",
       "      <td>Torgersen</td>\n",
       "      <td>NaN</td>\n",
       "      <td>NaN</td>\n",
       "      <td>NaN</td>\n",
       "      <td>NaN</td>\n",
       "      <td>NaN</td>\n",
       "      <td>2007</td>\n",
       "    </tr>\n",
       "    <tr>\n",
       "      <th>4</th>\n",
       "      <td>Adelie</td>\n",
       "      <td>Torgersen</td>\n",
       "      <td>36.7</td>\n",
       "      <td>19.3</td>\n",
       "      <td>193.0</td>\n",
       "      <td>3450.0</td>\n",
       "      <td>female</td>\n",
       "      <td>2007</td>\n",
       "    </tr>\n",
       "  </tbody>\n",
       "</table>\n",
       "</div>"
      ],
      "text/plain": [
       "  species     island  bill_length_mm  bill_depth_mm  flipper_length_mm  \\\n",
       "0  Adelie  Torgersen            39.1           18.7              181.0   \n",
       "1  Adelie  Torgersen            39.5           17.4              186.0   \n",
       "2  Adelie  Torgersen            40.3           18.0              195.0   \n",
       "3  Adelie  Torgersen             NaN            NaN                NaN   \n",
       "4  Adelie  Torgersen            36.7           19.3              193.0   \n",
       "\n",
       "   body_mass_g     sex  year  \n",
       "0       3750.0    male  2007  \n",
       "1       3800.0  female  2007  \n",
       "2       3250.0  female  2007  \n",
       "3          NaN     NaN  2007  \n",
       "4       3450.0  female  2007  "
      ]
     },
     "execution_count": 3,
     "metadata": {},
     "output_type": "execute_result"
    }
   ],
   "source": [
    "import pandas as pd \n",
    "\n",
    "# read in Palmer penguins data\n",
    "penguins = pd.read_csv(\"https://raw.githubusercontent.com/allisonhorst/palmerpenguins/main/inst/extdata/penguins.csv\")\n",
    "\n",
    "# number of rows\n",
    "print(len(penguins))\n",
    "\n",
    "# head\n",
    "penguins.head()"
   ]
  },
  {
   "cell_type": "markdown",
   "id": "b34404f9-9712-4180-9996-c3e9eefb9249",
   "metadata": {},
   "source": [
    "## Summary stats\n",
    "\n",
    "In pandas it is easy to get summary statistics for each column in a dataframe by using methods such as\n",
    "\n",
    "- sum(): sum values in each column,\n",
    "- count(): count non-NA values in each column,\n",
    "- min() and max(): get the minimum and maximum value in each column,\n",
    "- mean() and median(): get the mean and median value in each column,\n",
    "- std() and var(): get the standard deviation and variance in each column.\n",
    "\n",
    "Ex:"
   ]
  },
  {
   "cell_type": "code",
   "execution_count": 4,
   "id": "b0678048-101e-4373-a25d-87d555a3d7ce",
   "metadata": {
    "tags": []
   },
   "outputs": [
    {
     "data": {
      "text/plain": [
       "species              344\n",
       "island               344\n",
       "bill_length_mm       342\n",
       "bill_depth_mm        342\n",
       "flipper_length_mm    342\n",
       "body_mass_g          342\n",
       "sex                  333\n",
       "year                 344\n",
       "dtype: int64"
      ]
     },
     "execution_count": 4,
     "metadata": {},
     "output_type": "execute_result"
    }
   ],
   "source": [
    "# get the number of non-NA values in each column \n",
    "penguins.count()"
   ]
  },
  {
   "cell_type": "code",
   "execution_count": 5,
   "id": "7691aa21-3c89-413d-b0fd-8312c653b1e1",
   "metadata": {
    "tags": []
   },
   "outputs": [
    {
     "data": {
      "text/plain": [
       "bill_length_mm         32.1\n",
       "bill_depth_mm          13.1\n",
       "flipper_length_mm     172.0\n",
       "body_mass_g          2700.0\n",
       "year                 2007.0\n",
       "dtype: float64"
      ]
     },
     "execution_count": 5,
     "metadata": {},
     "output_type": "execute_result"
    }
   ],
   "source": [
    "# get the minimum value in each column\n",
    "penguins.select_dtypes('number').min()"
   ]
  },
  {
   "cell_type": "markdown",
   "id": "08efcd26-3a66-4c32-b774-66070414f5e8",
   "metadata": {
    "tags": []
   },
   "source": [
    "## Grouping\n",
    "\n",
    "Our penguins data can be naturally split into islands, sex, species, year\n",
    "\n",
    "Often, we want to calculate summary stats for these groups using `groupby()`"
   ]
  },
  {
   "cell_type": "markdown",
   "id": "b97aac06-0297-4c10-9eb3-86d146097483",
   "metadata": {},
   "source": [
    "Our penguins data is naturally split into different groups: there are three different species, two sexes and three islands. Often, we want to calculate a certain statistic for each group. For example, suppose we want to calculate the average flipper length per species. \n",
    "\n",
    "How would we do this “by hand”?\n",
    "\n",
    "- We start with our data and notice there are multiple species in the species column.\n",
    "\n",
    "- We split our original table to group all observations from the same species together.\n",
    "\n",
    "- We calculate the average flipper length for each of the groups we formed.\n",
    "\n",
    "- Then we combine the values for average flipper length per species into a single table.\n",
    "\n",
    "This is known as the **Split-Apply-Combine strategy**. This strategy follows the three steps we explained above:\n",
    "\n",
    "1. Split: Split the data into logical groups (e.g. species, sex, island, etc.)\n",
    "\n",
    "2. Apply: Calculate some summary statistic on each group (e.g. average flipper length by species, number of individuals per island, body mass by sex, etc.)\n",
    "\n",
    "3. Combine: Combine the statistic calculated on each group back together."
   ]
  },
  {
   "cell_type": "markdown",
   "id": "c8d43d45-c23b-4759-ada4-5517b1b5c397",
   "metadata": {},
   "source": [
    "In Python we can use the groupby() method to split (i.e. group) the data into different categories. The general syntax for groupby() is\n",
    "\n",
    "`df.groupby(columns_to_group_by)`\n",
    "\n",
    "where most often we will have columns_to_group_by = a single column name (string) or a list of column names, the unique values of the column (or columns) will be used as the groups of the data frame\n",
    "\n",
    "**Example:** calculate mean flipper length by species\n",
    "\n",
    "1. Find the method that calculates the mean: mean()\n",
    "\n",
    "Note: First, if we don’t use the groupby() method, we obtain the average for the whole flipper length column:"
   ]
  },
  {
   "cell_type": "code",
   "execution_count": 7,
   "id": "69d7af45-94a2-4235-bc74-e27f92c13c2d",
   "metadata": {
    "tags": []
   },
   "outputs": [
    {
     "data": {
      "text/plain": [
       "200.91520467836258"
      ]
     },
     "execution_count": 7,
     "metadata": {},
     "output_type": "execute_result"
    }
   ],
   "source": [
    "# ave of whole column (all species)\n",
    "penguins.flipper_length_mm.mean()"
   ]
  },
  {
   "cell_type": "code",
   "execution_count": null,
   "id": "6e89604a-438c-4a2b-9990-ae5e83a2aa3b",
   "metadata": {},
   "outputs": [],
   "source": []
  }
 ],
 "metadata": {
  "kernelspec": {
   "display_name": "Python 3 (ipykernel)",
   "language": "python",
   "name": "python3"
  },
  "language_info": {
   "codemirror_mode": {
    "name": "ipython",
    "version": 3
   },
   "file_extension": ".py",
   "mimetype": "text/x-python",
   "name": "python",
   "nbconvert_exporter": "python",
   "pygments_lexer": "ipython3",
   "version": "3.7.13"
  }
 },
 "nbformat": 4,
 "nbformat_minor": 5
}
