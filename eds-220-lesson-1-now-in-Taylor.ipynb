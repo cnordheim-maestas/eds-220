{
 "cells": [
  {
   "cell_type": "markdown",
   "id": "405f48b7-7b83-4c52-b042-ae777a6b1157",
   "metadata": {},
   "source": [
    "# Lecture notes 10.4.2023"
   ]
  },
  {
   "cell_type": "markdown",
   "id": "c7f8b6b8-7690-4cce-990a-a2f3bb7a65c5",
   "metadata": {},
   "source": [
    "## Attributes & methods\n",
    "\n",
    "An object in python has attributes and methods\n",
    "- **attributes**: a property of an objec, a piece of info about it\n",
    "- **method**: procedure associated with an objec, an action where the main ingredient is the object itself\n",
    "\n",
    "Access a variables attributes and methods by adding a period at the end of the variable name\n",
    "\n",
    "variable.variable_method() or \n",
    "variable.variable_attribute()\n",
    "\n",
    "Examples:\n",
    "Methods and attributes of numpy arrays"
   ]
  },
  {
   "cell_type": "code",
   "execution_count": 1,
   "id": "a346dae4-aa77-4cd9-a434-f67cd530b499",
   "metadata": {
    "tags": []
   },
   "outputs": [],
   "source": [
    "import numpy as np"
   ]
  },
  {
   "cell_type": "code",
   "execution_count": 4,
   "id": "fe536954-a2f2-4b00-82ee-6e24c9be2d5b",
   "metadata": {
    "tags": []
   },
   "outputs": [
    {
     "name": "stdout",
     "output_type": "stream",
     "text": [
      "[[1 2 3]\n",
      " [4 5 6]\n",
      " [7 8 9]]\n"
     ]
    }
   ],
   "source": [
    "# define a 3x3 array\n",
    "var = np.array( [ [1,2,3], [4,5,6], [7,8,9] ] )\n",
    "print(var)"
   ]
  },
  {
   "cell_type": "code",
   "execution_count": 5,
   "id": "c1018d41-190a-4042-a65e-a71bf41d67c4",
   "metadata": {
    "tags": []
   },
   "outputs": [
    {
     "data": {
      "text/plain": [
       "(3, 3)"
      ]
     },
     "execution_count": 5,
     "metadata": {},
     "output_type": "execute_result"
    }
   ],
   "source": [
    "# shape: attributes telling us the number of elements in each dimmension of the array\n",
    "var.shape"
   ]
  },
  {
   "cell_type": "code",
   "execution_count": 6,
   "id": "6988954a-12e9-4dda-a7b9-1791db54a36a",
   "metadata": {
    "tags": []
   },
   "outputs": [
    {
     "data": {
      "text/plain": [
       "tuple"
      ]
     },
     "execution_count": 6,
     "metadata": {},
     "output_type": "execute_result"
    }
   ],
   "source": [
    "type(var.shape)"
   ]
  },
  {
   "cell_type": "code",
   "execution_count": 11,
   "id": "d0caad3f-57e6-459d-9947-c9a1cb107aa6",
   "metadata": {
    "tags": []
   },
   "outputs": [
    {
     "data": {
      "text/plain": [
       "2"
      ]
     },
     "execution_count": 11,
     "metadata": {},
     "output_type": "execute_result"
    }
   ],
   "source": [
    "# ndim an attribute holding the number of array dimmensions\n",
    "var.ndim"
   ]
  },
  {
   "cell_type": "code",
   "execution_count": 12,
   "id": "f15c12ae-a48f-4964-992d-4975d4adb1aa",
   "metadata": {
    "tags": []
   },
   "outputs": [
    {
     "data": {
      "text/plain": [
       "int"
      ]
     },
     "execution_count": 12,
     "metadata": {},
     "output_type": "execute_result"
    }
   ],
   "source": [
    "type(var.ndim)"
   ]
  },
  {
   "cell_type": "markdown",
   "id": "1f85de99-6fff-4fb1-8ca6-e847112bbe06",
   "metadata": {},
   "source": [
    "Attributes can have many different datatypes"
   ]
  },
  {
   "cell_type": "code",
   "execution_count": 14,
   "id": "34733e10-dead-43f9-a238-8a2fdbd43ce6",
   "metadata": {
    "tags": []
   },
   "outputs": [
    {
     "data": {
      "text/plain": [
       "1"
      ]
     },
     "execution_count": 14,
     "metadata": {},
     "output_type": "execute_result"
    }
   ],
   "source": [
    "# min\n",
    "var.min()"
   ]
  },
  {
   "cell_type": "code",
   "execution_count": 17,
   "id": "3b0c24cf-8780-40cc-81e8-940316c50639",
   "metadata": {
    "tags": []
   },
   "outputs": [
    {
     "data": {
      "text/plain": [
       "builtin_function_or_method"
      ]
     },
     "execution_count": 17,
     "metadata": {},
     "output_type": "execute_result"
    }
   ],
   "source": [
    "type(var.min)"
   ]
  },
  {
   "cell_type": "markdown",
   "id": "dc6c849d-cbc7-4a9d-85ed-82047b07ebf6",
   "metadata": {
    "tags": []
   },
   "source": [
    "## R and Python\n",
    "\n",
    "R:\n",
    "- R doesnt use methods within an object\n",
    "- Functions are extrinsic to outside the objects they are acting on\n",
    "\n",
    "Example: recreate getting the min value in an array\n",
    "\n",
    "In R, there would be 2 separate items: variable, var and a separate function, min, that gets var as a parameter\n",
    "\n",
    "R code:\n",
    "var <-- array(c(1,4,7,2,5,8,3,6,9), dim=c(3,3))\n",
    "min(var)\n",
    "\n",
    "Using pipe operator in R: this is closer to the . in python!\n",
    "var <-- array(c(1,4,7,2,5,8,3,6,9), dim=c(3,3))\n",
    "var %>% min()\n",
    "(substitube the pipe for a period and then you get python code)\n",
    "\n",
    "What is happening with the pipe?\n",
    "Pipe passing the variable to the function as its first argument, this is essentially what the period does in python. "
   ]
  },
  {
   "cell_type": "code",
   "execution_count": null,
   "id": "a2bcdb51-30c0-42fe-a1a1-52344ebd198c",
   "metadata": {},
   "outputs": [],
   "source": []
  }
 ],
 "metadata": {
  "kernelspec": {
   "display_name": "Anaconda 3 (Base)",
   "language": "python",
   "name": "base"
  },
  "language_info": {
   "codemirror_mode": {
    "name": "ipython",
    "version": 3
   },
   "file_extension": ".py",
   "mimetype": "text/x-python",
   "name": "python",
   "nbconvert_exporter": "python",
   "pygments_lexer": "ipython3",
   "version": "3.9.13"
  }
 },
 "nbformat": 4,
 "nbformat_minor": 5
}
