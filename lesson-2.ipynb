{
 "cells": [
  {
   "cell_type": "markdown",
   "id": "b9ff3fa1-a3e7-465a-8b31-70762c819b28",
   "metadata": {},
   "source": [
    "# Lesson 2\n",
    "Instructor's notes here: https://github.com/carmengg/eds-220-fall-2023-lessons/"
   ]
  },
  {
   "cell_type": "markdown",
   "id": "1831af1a-047b-4b85-b07f-d743949c113a",
   "metadata": {},
   "source": [
    "## Objectives:\n",
    "review core 'pandas' object: pandas.series and pandas.Dataframe\n",
    "\n",
    "## Pandas\n",
    "- python package to wrangle tabular data\n",
    "- built on top of numpy\n",
    "- core tool for data analysis in python"
   ]
  },
  {
   "cell_type": "code",
   "execution_count": 1,
   "id": "3d31837b-d130-4314-8a37-04bb63497349",
   "metadata": {
    "tags": []
   },
   "outputs": [],
   "source": [
    "# import pandas & numpy with standard abbreviations\n",
    "import pandas as pd\n",
    "import numpy as np"
   ]
  },
  {
   "cell_type": "markdown",
   "id": "b3d8a47c-63d5-41df-b8e1-cbdef5b164cd",
   "metadata": {},
   "source": [
    "## Series\n",
    "\n",
    "A pandas.series:\n",
    "- is is one of the core data structures in pandas\n",
    "- a 1-dimmentional array of indexed data\n",
    "- will be the columns of the pandas.Dataframe\n",
    "\n",
    "# Creating a pandas series\n",
    "Several ways of creating a pandas series:\n",
    "For now, we will create a series using this syntax:\n",
    "\n",
    "s = pd.Series(data, index=index)"
   ]
  },
  {
   "cell_type": "code",
   "execution_count": 2,
   "id": "f59cc058-e78d-4933-b5b2-963d865115fd",
   "metadata": {
    "tags": []
   },
   "outputs": [
    {
     "data": {
      "text/plain": [
       "a    0\n",
       "b    1\n",
       "c    2\n",
       "dtype: int64"
      ]
     },
     "execution_count": 2,
     "metadata": {},
     "output_type": "execute_result"
    }
   ],
   "source": [
    "# a Series from a numpy array \n",
    "pd.Series(np.arange(3), index=['a','b','c'])\n",
    "# note: same number of indices as the number of items"
   ]
  },
  {
   "cell_type": "code",
   "execution_count": 3,
   "id": "f5fdf4ac-1b79-430b-ab9c-9a5791a845fc",
   "metadata": {
    "tags": []
   },
   "outputs": [
    {
     "data": {
      "text/plain": [
       "0    EDS 220\n",
       "1    EDS 222\n",
       "2    EDS 223\n",
       "3    EDS 242\n",
       "dtype: object"
      ]
     },
     "execution_count": 3,
     "metadata": {},
     "output_type": "execute_result"
    }
   ],
   "source": [
    "# note: The index parameter is optional\n",
    "\n",
    "# a Series from a list of strings with default index\n",
    "pd.Series(['EDS 220', 'EDS 222', 'EDS 223', 'EDS 242'])"
   ]
  },
  {
   "cell_type": "markdown",
   "id": "9a1a9e6c-f9b0-4819-ad83-e749c03853d2",
   "metadata": {},
   "source": [
    "## Operations on series\n",
    "\n",
    "Arithmetic operations work on series and also most numpy functions.\n",
    "\n",
    "Example:"
   ]
  },
  {
   "cell_type": "code",
   "execution_count": 12,
   "id": "43029ba2-dad0-4e46-85ce-479c8d2f2c6b",
   "metadata": {
    "tags": []
   },
   "outputs": [
    {
     "name": "stdout",
     "output_type": "stream",
     "text": [
      "Andrea      9.8\n",
      "Beth        7.3\n",
      "Carolina    6.5\n",
      "dtype: float64\n"
     ]
    }
   ],
   "source": [
    "# define a series\n",
    "s = pd.Series([98,73,65], index=['Andrea', 'Beth', 'Carolina'])\n",
    "\n",
    "# divide each element by 10\n",
    "print(s /10)"
   ]
  },
  {
   "cell_type": "markdown",
   "id": "049909f4-d40d-47bd-91dd-42323796f429",
   "metadata": {},
   "source": [
    "Example: Create series with True/False"
   ]
  },
  {
   "cell_type": "code",
   "execution_count": 13,
   "id": "dac0b793-a74c-4928-9e21-3d78114d66e8",
   "metadata": {
    "tags": []
   },
   "outputs": [
    {
     "data": {
      "text/plain": [
       "Andrea      False\n",
       "Beth        False\n",
       "Carolina     True\n",
       "dtype: bool"
      ]
     },
     "execution_count": 13,
     "metadata": {},
     "output_type": "execute_result"
    }
   ],
   "source": [
    "s < 70"
   ]
  },
  {
   "cell_type": "markdown",
   "id": "20c08a5f-b113-44df-8231-f5307ed7d891",
   "metadata": {},
   "source": [
    "## Attributes and Methods of Series\n",
    "\n",
    "Two examples oof identifying missing values\n",
    "\n",
    "- missing values in pandas are represented by np.NaN = not a number\n",
    "- NaN is a type of float in numpy"
   ]
  },
  {
   "cell_type": "code",
   "execution_count": 14,
   "id": "cf47a060-db9c-470e-8822-cfb63f373013",
   "metadata": {
    "tags": []
   },
   "outputs": [
    {
     "data": {
      "text/plain": [
       "nan"
      ]
     },
     "execution_count": 14,
     "metadata": {},
     "output_type": "execute_result"
    }
   ],
   "source": [
    "np.NaN"
   ]
  },
  {
   "cell_type": "code",
   "execution_count": 15,
   "id": "df8797f1-d839-46eb-82a3-521fa8d17dff",
   "metadata": {
    "tags": []
   },
   "outputs": [
    {
     "data": {
      "text/plain": [
       "float"
      ]
     },
     "execution_count": 15,
     "metadata": {},
     "output_type": "execute_result"
    }
   ],
   "source": [
    "type(np.NaN)"
   ]
  },
  {
   "cell_type": "code",
   "execution_count": 16,
   "id": "571e0420-ef03-431d-8799-8d9870277012",
   "metadata": {
    "tags": []
   },
   "outputs": [],
   "source": [
    "# create a series with NA's in it\n",
    "\n",
    "s = pd.Series([1,2,np.NaN])"
   ]
  },
  {
   "cell_type": "code",
   "execution_count": 17,
   "id": "31050304-f0c3-49f2-9341-adf1c0bd2afb",
   "metadata": {
    "tags": []
   },
   "outputs": [
    {
     "data": {
      "text/plain": [
       "0    1.0\n",
       "1    2.0\n",
       "2    NaN\n",
       "dtype: float64"
      ]
     },
     "execution_count": 17,
     "metadata": {},
     "output_type": "execute_result"
    }
   ],
   "source": [
    "s"
   ]
  },
  {
   "cell_type": "markdown",
   "id": "9c8479e1-04ba-49f7-8358-8c9df67a8bf7",
   "metadata": {},
   "source": [
    "### hasnans"
   ]
  },
  {
   "cell_type": "code",
   "execution_count": 18,
   "id": "39b0d477-4767-40c2-81c1-51843df53cce",
   "metadata": {
    "tags": []
   },
   "outputs": [
    {
     "data": {
      "text/plain": [
       "True"
      ]
     },
     "execution_count": 18,
     "metadata": {},
     "output_type": "execute_result"
    }
   ],
   "source": [
    "# check if it has NA's with hasnans\n",
    "s.hasnans"
   ]
  },
  {
   "cell_type": "markdown",
   "id": "c21c7d52-3e27-4fad-8908-d975cab887e3",
   "metadata": {
    "tags": []
   },
   "source": [
    "### isna()\n",
    "a method of series, returns a series indcating which elements are nas"
   ]
  },
  {
   "cell_type": "code",
   "execution_count": 21,
   "id": "7f6fc969-3a1a-4798-8a2a-3bd0de2f3101",
   "metadata": {
    "tags": []
   },
   "outputs": [
    {
     "data": {
      "text/plain": [
       "0    False\n",
       "1    False\n",
       "2     True\n",
       "dtype: bool"
      ]
     },
     "execution_count": 21,
     "metadata": {},
     "output_type": "execute_result"
    }
   ],
   "source": [
    "s.isna()"
   ]
  },
  {
   "cell_type": "markdown",
   "id": "9698b13d-662d-46f4-b24f-b50dcf6d47f6",
   "metadata": {},
   "source": [
    "## Dataframes\n",
    "\n",
    "pandas.Dataframes\n",
    "\n",
    "Represents tabular data (think of it as a spreadsheet) and each column is a pandas.Series\n",
    "\n",
    "## Creating a pandas.Dataframe"
   ]
  },
  {
   "cell_type": "code",
   "execution_count": 32,
   "id": "fc45ccb9-ae8f-4c4d-9f75-8c34d04638c5",
   "metadata": {
    "tags": []
   },
   "outputs": [
    {
     "ename": "AttributeError",
     "evalue": "module 'numpy' has no attribute 'arrange'",
     "output_type": "error",
     "traceback": [
      "\u001b[0;31m---------------------------------------------------------------------------\u001b[0m",
      "\u001b[0;31mAttributeError\u001b[0m                            Traceback (most recent call last)",
      "\u001b[0;32m/tmp/ipykernel_3621510/4171391333.py\u001b[0m in \u001b[0;36m<module>\u001b[0;34m\u001b[0m\n\u001b[1;32m      1\u001b[0m \u001b[0;31m# initialize a dictionary with the columns data\u001b[0m\u001b[0;34m\u001b[0m\u001b[0;34m\u001b[0m\u001b[0m\n\u001b[0;32m----> 2\u001b[0;31m d = {'col_name_1' : np.arrange(3),\n\u001b[0m\u001b[1;32m      3\u001b[0m     \u001b[0;34m'col_name_2'\u001b[0m \u001b[0;34m:\u001b[0m \u001b[0;34m[\u001b[0m\u001b[0;36m3.1\u001b[0m\u001b[0;34m,\u001b[0m \u001b[0;36m3.2\u001b[0m\u001b[0;34m,\u001b[0m \u001b[0;36m3.3\u001b[0m\u001b[0;34m]\u001b[0m\u001b[0;34m,\u001b[0m\u001b[0;34m\u001b[0m\u001b[0;34m\u001b[0m\u001b[0m\n\u001b[1;32m      4\u001b[0m     }\n",
      "\u001b[0;32m/opt/anaconda3/lib/python3.9/site-packages/numpy/__init__.py\u001b[0m in \u001b[0;36m__getattr__\u001b[0;34m(attr)\u001b[0m\n\u001b[1;32m    311\u001b[0m                 \u001b[0;32mreturn\u001b[0m \u001b[0mTester\u001b[0m\u001b[0;34m\u001b[0m\u001b[0;34m\u001b[0m\u001b[0m\n\u001b[1;32m    312\u001b[0m \u001b[0;34m\u001b[0m\u001b[0m\n\u001b[0;32m--> 313\u001b[0;31m             raise AttributeError(\"module {!r} has no attribute \"\n\u001b[0m\u001b[1;32m    314\u001b[0m                                  \"{!r}\".format(__name__, attr))\n\u001b[1;32m    315\u001b[0m \u001b[0;34m\u001b[0m\u001b[0m\n",
      "\u001b[0;31mAttributeError\u001b[0m: module 'numpy' has no attribute 'arrange'"
     ]
    }
   ],
   "source": [
    "# initialize a dictionary with the columns data\n",
    "d = {'col_name_1' : np.arrange(3),\n",
    "    'col_name_2' : [3.1, 3.2, 3.3],\n",
    "    }\n"
   ]
  },
  {
   "cell_type": "code",
   "execution_count": 33,
   "id": "6a762aa7-2a45-4d82-938f-ccf67af3fe74",
   "metadata": {
    "tags": []
   },
   "outputs": [],
   "source": [
    "d = {'col_name_1' : pd.Series(np.arange(3)),\n",
    "     'col_name_2' : pd.Series([3.1, 3.2, 3.3]),\n",
    "     }"
   ]
  },
  {
   "cell_type": "code",
   "execution_count": 34,
   "id": "f5d0bb4e-be07-4ef6-9641-5e4d0f4a73b7",
   "metadata": {
    "tags": []
   },
   "outputs": [
    {
     "data": {
      "text/html": [
       "<div>\n",
       "<style scoped>\n",
       "    .dataframe tbody tr th:only-of-type {\n",
       "        vertical-align: middle;\n",
       "    }\n",
       "\n",
       "    .dataframe tbody tr th {\n",
       "        vertical-align: top;\n",
       "    }\n",
       "\n",
       "    .dataframe thead th {\n",
       "        text-align: right;\n",
       "    }\n",
       "</style>\n",
       "<table border=\"1\" class=\"dataframe\">\n",
       "  <thead>\n",
       "    <tr style=\"text-align: right;\">\n",
       "      <th></th>\n",
       "      <th>col_name_1</th>\n",
       "      <th>col_name_2</th>\n",
       "    </tr>\n",
       "  </thead>\n",
       "  <tbody>\n",
       "    <tr>\n",
       "      <th>0</th>\n",
       "      <td>0</td>\n",
       "      <td>3.1</td>\n",
       "    </tr>\n",
       "    <tr>\n",
       "      <th>1</th>\n",
       "      <td>1</td>\n",
       "      <td>3.2</td>\n",
       "    </tr>\n",
       "    <tr>\n",
       "      <th>2</th>\n",
       "      <td>2</td>\n",
       "      <td>3.3</td>\n",
       "    </tr>\n",
       "  </tbody>\n",
       "</table>\n",
       "</div>"
      ],
      "text/plain": [
       "   col_name_1  col_name_2\n",
       "0           0         3.1\n",
       "1           1         3.2\n",
       "2           2         3.3"
      ]
     },
     "execution_count": 34,
     "metadata": {},
     "output_type": "execute_result"
    }
   ],
   "source": [
    "# create data frame\n",
    "df = pd.DataFrame(d)\n",
    "df"
   ]
  },
  {
   "cell_type": "markdown",
   "id": "717a983c-a230-4fb4-84d3-b77dde444cc2",
   "metadata": {},
   "source": [
    "## Rename columns\n",
    "\n",
    "Let's rename these columns! rename takes a dictionary as an input\n",
    "\n",
    "('col1_oldname' : 'col1_newname'\n",
    " 'col2_oldname' : 'col2_newname'\n",
    ")"
   ]
  },
  {
   "cell_type": "code",
   "execution_count": 31,
   "id": "474629cf-21f9-4161-8936-1d61e8b080ee",
   "metadata": {
    "tags": []
   },
   "outputs": [
    {
     "ename": "SyntaxError",
     "evalue": "invalid syntax (184947014.py, line 1)",
     "output_type": "error",
     "traceback": [
      "\u001b[0;36m  File \u001b[0;32m\"/tmp/ipykernel_3621510/184947014.py\"\u001b[0;36m, line \u001b[0;32m1\u001b[0m\n\u001b[0;31m    col_names = ('col_name_1':'col1',\u001b[0m\n\u001b[0m                             ^\u001b[0m\n\u001b[0;31mSyntaxError\u001b[0m\u001b[0;31m:\u001b[0m invalid syntax\n"
     ]
    }
   ],
   "source": [
    "col_names = ('col_name_1':'col1',\n",
    "             'col_name_2':'col2')\n",
    "\n",
    "df.rename(columns=col_names) # what did I do wrong?? need to look at lecturers notes..."
   ]
  },
  {
   "cell_type": "markdown",
   "id": "122f87bc-6a72-497c-910d-59e69074f1fb",
   "metadata": {},
   "source": [
    "Note it did not modify the column name itself it made a new object!"
   ]
  },
  {
   "cell_type": "code",
   "execution_count": 35,
   "id": "d82fd8ab-f192-4640-b835-4b5d892b13d3",
   "metadata": {
    "tags": []
   },
   "outputs": [
    {
     "ename": "NameError",
     "evalue": "name 'col_names' is not defined",
     "output_type": "error",
     "traceback": [
      "\u001b[0;31m---------------------------------------------------------------------------\u001b[0m",
      "\u001b[0;31mNameError\u001b[0m                                 Traceback (most recent call last)",
      "\u001b[0;32m/tmp/ipykernel_3621510/3111419514.py\u001b[0m in \u001b[0;36m<module>\u001b[0;34m\u001b[0m\n\u001b[0;32m----> 1\u001b[0;31m \u001b[0mdf\u001b[0m \u001b[0;34m=\u001b[0m \u001b[0mdf\u001b[0m\u001b[0;34m.\u001b[0m\u001b[0mrename\u001b[0m\u001b[0;34m(\u001b[0m\u001b[0mcolumns\u001b[0m\u001b[0;34m=\u001b[0m\u001b[0mcol_names\u001b[0m\u001b[0;34m)\u001b[0m\u001b[0;34m\u001b[0m\u001b[0;34m\u001b[0m\u001b[0m\n\u001b[0m",
      "\u001b[0;31mNameError\u001b[0m: name 'col_names' is not defined"
     ]
    }
   ],
   "source": [
    "df = df.rename(columns=col_names)"
   ]
  },
  {
   "cell_type": "code",
   "execution_count": null,
   "id": "03209078-3103-4ff7-87aa-93f92924f34c",
   "metadata": {},
   "outputs": [],
   "source": []
  }
 ],
 "metadata": {
  "kernelspec": {
   "display_name": "Anaconda 3 (Base)",
   "language": "python",
   "name": "base"
  },
  "language_info": {
   "codemirror_mode": {
    "name": "ipython",
    "version": 3
   },
   "file_extension": ".py",
   "mimetype": "text/x-python",
   "name": "python",
   "nbconvert_exporter": "python",
   "pygments_lexer": "ipython3",
   "version": "3.9.13"
  }
 },
 "nbformat": 4,
 "nbformat_minor": 5
}
