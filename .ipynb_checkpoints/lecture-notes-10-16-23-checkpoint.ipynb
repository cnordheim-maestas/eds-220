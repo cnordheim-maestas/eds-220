{
 "cells": [
  {
   "cell_type": "markdown",
   "id": "8bf46bc5-fba6-4be0-9b2b-756c4618c52d",
   "metadata": {},
   "source": [
    "# Updating data frames\n",
    "Lecture Notes\n",
    "10-16-23\n",
    "https://carmengg.github.io/eds-220-book/lectures/lesson-5-updating-dataframes.html"
   ]
  },
  {
   "cell_type": "markdown",
   "id": "5025b279-7045-4d33-96d1-8e88c47823dc",
   "metadata": {},
   "source": [
    "We will use the Palmer penguins dataset (Horst et al., 2020). This time we will import it via the seaborn package since it is included as one of seaborn’s example datasets."
   ]
  },
  {
   "cell_type": "code",
   "execution_count": 62,
   "id": "51b157d0-b47a-4ae6-be69-c8c4d7b17130",
   "metadata": {
    "tags": []
   },
   "outputs": [
    {
     "data": {
      "text/html": [
       "<div>\n",
       "<style scoped>\n",
       "    .dataframe tbody tr th:only-of-type {\n",
       "        vertical-align: middle;\n",
       "    }\n",
       "\n",
       "    .dataframe tbody tr th {\n",
       "        vertical-align: top;\n",
       "    }\n",
       "\n",
       "    .dataframe thead th {\n",
       "        text-align: right;\n",
       "    }\n",
       "</style>\n",
       "<table border=\"1\" class=\"dataframe\">\n",
       "  <thead>\n",
       "    <tr style=\"text-align: right;\">\n",
       "      <th></th>\n",
       "      <th>species</th>\n",
       "      <th>island</th>\n",
       "      <th>bill_length_mm</th>\n",
       "      <th>bill_depth_mm</th>\n",
       "      <th>flipper_length_mm</th>\n",
       "      <th>body_mass_g</th>\n",
       "      <th>sex</th>\n",
       "    </tr>\n",
       "  </thead>\n",
       "  <tbody>\n",
       "    <tr>\n",
       "      <th>0</th>\n",
       "      <td>Adelie</td>\n",
       "      <td>Torgersen</td>\n",
       "      <td>39.1</td>\n",
       "      <td>18.7</td>\n",
       "      <td>181.0</td>\n",
       "      <td>3750.0</td>\n",
       "      <td>Male</td>\n",
       "    </tr>\n",
       "    <tr>\n",
       "      <th>1</th>\n",
       "      <td>Adelie</td>\n",
       "      <td>Torgersen</td>\n",
       "      <td>39.5</td>\n",
       "      <td>17.4</td>\n",
       "      <td>186.0</td>\n",
       "      <td>3800.0</td>\n",
       "      <td>Female</td>\n",
       "    </tr>\n",
       "    <tr>\n",
       "      <th>2</th>\n",
       "      <td>Adelie</td>\n",
       "      <td>Torgersen</td>\n",
       "      <td>40.3</td>\n",
       "      <td>18.0</td>\n",
       "      <td>195.0</td>\n",
       "      <td>3250.0</td>\n",
       "      <td>Female</td>\n",
       "    </tr>\n",
       "    <tr>\n",
       "      <th>3</th>\n",
       "      <td>Adelie</td>\n",
       "      <td>Torgersen</td>\n",
       "      <td>NaN</td>\n",
       "      <td>NaN</td>\n",
       "      <td>NaN</td>\n",
       "      <td>NaN</td>\n",
       "      <td>NaN</td>\n",
       "    </tr>\n",
       "    <tr>\n",
       "      <th>4</th>\n",
       "      <td>Adelie</td>\n",
       "      <td>Torgersen</td>\n",
       "      <td>36.7</td>\n",
       "      <td>19.3</td>\n",
       "      <td>193.0</td>\n",
       "      <td>3450.0</td>\n",
       "      <td>Female</td>\n",
       "    </tr>\n",
       "  </tbody>\n",
       "</table>\n",
       "</div>"
      ],
      "text/plain": [
       "  species     island  bill_length_mm  bill_depth_mm  flipper_length_mm  \\\n",
       "0  Adelie  Torgersen            39.1           18.7              181.0   \n",
       "1  Adelie  Torgersen            39.5           17.4              186.0   \n",
       "2  Adelie  Torgersen            40.3           18.0              195.0   \n",
       "3  Adelie  Torgersen             NaN            NaN                NaN   \n",
       "4  Adelie  Torgersen            36.7           19.3              193.0   \n",
       "\n",
       "   body_mass_g     sex  \n",
       "0       3750.0    Male  \n",
       "1       3800.0  Female  \n",
       "2       3250.0  Female  \n",
       "3          NaN     NaN  \n",
       "4       3450.0  Female  "
      ]
     },
     "execution_count": 62,
     "metadata": {},
     "output_type": "execute_result"
    }
   ],
   "source": [
    "# standard libraries\n",
    "import pandas as pd\n",
    "import numpy as np\n",
    "\n",
    "# import seaborn with its standard abbreviation\n",
    "import seaborn as sns\n",
    "\n",
    "# will use the random library to create some random numbers\n",
    "import random\n",
    "\n",
    "penguins = sns.load_dataset(\"penguins\")\n",
    "\n",
    "# look at dataframe's head\n",
    "penguins.head()"
   ]
  },
  {
   "cell_type": "markdown",
   "id": "77e7c4b9-b27b-4294-bed2-4a1b6ef8913a",
   "metadata": {},
   "source": [
    "## Add a column\n",
    "```\n",
    "df['new_col_name'] = new_column_values\n",
    "```\n",
    "\n",
    "`new_column_values` could be:\n",
    "- a pd.Series or a numpy array of the same length as the data\n",
    "- a single scalar (single number, single string)\n",
    "\n",
    "Ex: create a new column where the body mass is in kilograms instead of grams, so we need to divide the body_mass_g by 1000"
   ]
  },
  {
   "cell_type": "code",
   "execution_count": 63,
   "id": "acb96eca-3489-4a46-98f6-cdf93a961769",
   "metadata": {},
   "outputs": [
    {
     "name": "stdout",
     "output_type": "stream",
     "text": [
      "True\n"
     ]
    },
    {
     "data": {
      "text/html": [
       "<div>\n",
       "<style scoped>\n",
       "    .dataframe tbody tr th:only-of-type {\n",
       "        vertical-align: middle;\n",
       "    }\n",
       "\n",
       "    .dataframe tbody tr th {\n",
       "        vertical-align: top;\n",
       "    }\n",
       "\n",
       "    .dataframe thead th {\n",
       "        text-align: right;\n",
       "    }\n",
       "</style>\n",
       "<table border=\"1\" class=\"dataframe\">\n",
       "  <thead>\n",
       "    <tr style=\"text-align: right;\">\n",
       "      <th></th>\n",
       "      <th>species</th>\n",
       "      <th>island</th>\n",
       "      <th>bill_length_mm</th>\n",
       "      <th>bill_depth_mm</th>\n",
       "      <th>flipper_length_mm</th>\n",
       "      <th>body_mass_g</th>\n",
       "      <th>sex</th>\n",
       "      <th>body_mass_kg</th>\n",
       "    </tr>\n",
       "  </thead>\n",
       "  <tbody>\n",
       "    <tr>\n",
       "      <th>0</th>\n",
       "      <td>Adelie</td>\n",
       "      <td>Torgersen</td>\n",
       "      <td>39.1</td>\n",
       "      <td>18.7</td>\n",
       "      <td>181.0</td>\n",
       "      <td>3750.0</td>\n",
       "      <td>Male</td>\n",
       "      <td>3.75</td>\n",
       "    </tr>\n",
       "    <tr>\n",
       "      <th>1</th>\n",
       "      <td>Adelie</td>\n",
       "      <td>Torgersen</td>\n",
       "      <td>39.5</td>\n",
       "      <td>17.4</td>\n",
       "      <td>186.0</td>\n",
       "      <td>3800.0</td>\n",
       "      <td>Female</td>\n",
       "      <td>3.80</td>\n",
       "    </tr>\n",
       "    <tr>\n",
       "      <th>2</th>\n",
       "      <td>Adelie</td>\n",
       "      <td>Torgersen</td>\n",
       "      <td>40.3</td>\n",
       "      <td>18.0</td>\n",
       "      <td>195.0</td>\n",
       "      <td>3250.0</td>\n",
       "      <td>Female</td>\n",
       "      <td>3.25</td>\n",
       "    </tr>\n",
       "    <tr>\n",
       "      <th>3</th>\n",
       "      <td>Adelie</td>\n",
       "      <td>Torgersen</td>\n",
       "      <td>NaN</td>\n",
       "      <td>NaN</td>\n",
       "      <td>NaN</td>\n",
       "      <td>NaN</td>\n",
       "      <td>NaN</td>\n",
       "      <td>NaN</td>\n",
       "    </tr>\n",
       "    <tr>\n",
       "      <th>4</th>\n",
       "      <td>Adelie</td>\n",
       "      <td>Torgersen</td>\n",
       "      <td>36.7</td>\n",
       "      <td>19.3</td>\n",
       "      <td>193.0</td>\n",
       "      <td>3450.0</td>\n",
       "      <td>Female</td>\n",
       "      <td>3.45</td>\n",
       "    </tr>\n",
       "  </tbody>\n",
       "</table>\n",
       "</div>"
      ],
      "text/plain": [
       "  species     island  bill_length_mm  bill_depth_mm  flipper_length_mm  \\\n",
       "0  Adelie  Torgersen            39.1           18.7              181.0   \n",
       "1  Adelie  Torgersen            39.5           17.4              186.0   \n",
       "2  Adelie  Torgersen            40.3           18.0              195.0   \n",
       "3  Adelie  Torgersen             NaN            NaN                NaN   \n",
       "4  Adelie  Torgersen            36.7           19.3              193.0   \n",
       "\n",
       "   body_mass_g     sex  body_mass_kg  \n",
       "0       3750.0    Male          3.75  \n",
       "1       3800.0  Female          3.80  \n",
       "2       3250.0  Female          3.25  \n",
       "3          NaN     NaN           NaN  \n",
       "4       3450.0  Female          3.45  "
      ]
     },
     "execution_count": 63,
     "metadata": {},
     "output_type": "execute_result"
    }
   ],
   "source": [
    "# add a new column body_mass_kg \n",
    "# sane syntax as adding a new key to a dictionary\n",
    "penguins['body_mass_kg'] = penguins.body_mass_g/1000\n",
    "\n",
    "# confirm the new column is in the data frame\n",
    "print('body_mass_kg' in penguins.columns)\n",
    "\n",
    "# take a look at the new column\n",
    "penguins.head()"
   ]
  },
  {
   "cell_type": "markdown",
   "id": "b0cebf8f-d8ef-4c5b-a034-c9de22379711",
   "metadata": {},
   "source": [
    "If we want to create a new column and insert it at a particular position we use the data frame method insert():\n",
    "\n",
    "```\n",
    "df.insert(loc = integer_index,  # location of new column\n",
    "          column = 'new_col_name', \n",
    "          value = new_col_values)\n",
    "```"
   ]
  },
  {
   "cell_type": "code",
   "execution_count": 64,
   "id": "c16c40c2-164a-4d1f-9111-ffcef9d325fc",
   "metadata": {
    "tags": []
   },
   "outputs": [],
   "source": [
    "# create random 3-digit codes\n",
    "# random.sample used for random sampling wo replacement\n",
    "codes = random.sample(range(100,1000), len(penguins))\n",
    "\n",
    "# insert codes at the front of data frame = index 0\n",
    "penguins.insert(loc=0, \n",
    "                column = 'code',\n",
    "                value = codes)"
   ]
  },
  {
   "cell_type": "code",
   "execution_count": 65,
   "id": "fafd9374-d159-4c82-a7e7-2082e409c513",
   "metadata": {
    "tags": []
   },
   "outputs": [
    {
     "data": {
      "text/html": [
       "<div>\n",
       "<style scoped>\n",
       "    .dataframe tbody tr th:only-of-type {\n",
       "        vertical-align: middle;\n",
       "    }\n",
       "\n",
       "    .dataframe tbody tr th {\n",
       "        vertical-align: top;\n",
       "    }\n",
       "\n",
       "    .dataframe thead th {\n",
       "        text-align: right;\n",
       "    }\n",
       "</style>\n",
       "<table border=\"1\" class=\"dataframe\">\n",
       "  <thead>\n",
       "    <tr style=\"text-align: right;\">\n",
       "      <th></th>\n",
       "      <th>code</th>\n",
       "      <th>species</th>\n",
       "      <th>island</th>\n",
       "      <th>bill_length_mm</th>\n",
       "      <th>bill_depth_mm</th>\n",
       "      <th>flipper_length_mm</th>\n",
       "      <th>body_mass_g</th>\n",
       "      <th>sex</th>\n",
       "      <th>body_mass_kg</th>\n",
       "    </tr>\n",
       "  </thead>\n",
       "  <tbody>\n",
       "    <tr>\n",
       "      <th>0</th>\n",
       "      <td>502</td>\n",
       "      <td>Adelie</td>\n",
       "      <td>Torgersen</td>\n",
       "      <td>39.1</td>\n",
       "      <td>18.7</td>\n",
       "      <td>181.0</td>\n",
       "      <td>3750.0</td>\n",
       "      <td>Male</td>\n",
       "      <td>3.75</td>\n",
       "    </tr>\n",
       "    <tr>\n",
       "      <th>1</th>\n",
       "      <td>629</td>\n",
       "      <td>Adelie</td>\n",
       "      <td>Torgersen</td>\n",
       "      <td>39.5</td>\n",
       "      <td>17.4</td>\n",
       "      <td>186.0</td>\n",
       "      <td>3800.0</td>\n",
       "      <td>Female</td>\n",
       "      <td>3.80</td>\n",
       "    </tr>\n",
       "    <tr>\n",
       "      <th>2</th>\n",
       "      <td>703</td>\n",
       "      <td>Adelie</td>\n",
       "      <td>Torgersen</td>\n",
       "      <td>40.3</td>\n",
       "      <td>18.0</td>\n",
       "      <td>195.0</td>\n",
       "      <td>3250.0</td>\n",
       "      <td>Female</td>\n",
       "      <td>3.25</td>\n",
       "    </tr>\n",
       "    <tr>\n",
       "      <th>3</th>\n",
       "      <td>983</td>\n",
       "      <td>Adelie</td>\n",
       "      <td>Torgersen</td>\n",
       "      <td>NaN</td>\n",
       "      <td>NaN</td>\n",
       "      <td>NaN</td>\n",
       "      <td>NaN</td>\n",
       "      <td>NaN</td>\n",
       "      <td>NaN</td>\n",
       "    </tr>\n",
       "    <tr>\n",
       "      <th>4</th>\n",
       "      <td>428</td>\n",
       "      <td>Adelie</td>\n",
       "      <td>Torgersen</td>\n",
       "      <td>36.7</td>\n",
       "      <td>19.3</td>\n",
       "      <td>193.0</td>\n",
       "      <td>3450.0</td>\n",
       "      <td>Female</td>\n",
       "      <td>3.45</td>\n",
       "    </tr>\n",
       "  </tbody>\n",
       "</table>\n",
       "</div>"
      ],
      "text/plain": [
       "   code species     island  bill_length_mm  bill_depth_mm  flipper_length_mm  \\\n",
       "0   502  Adelie  Torgersen            39.1           18.7              181.0   \n",
       "1   629  Adelie  Torgersen            39.5           17.4              186.0   \n",
       "2   703  Adelie  Torgersen            40.3           18.0              195.0   \n",
       "3   983  Adelie  Torgersen             NaN            NaN                NaN   \n",
       "4   428  Adelie  Torgersen            36.7           19.3              193.0   \n",
       "\n",
       "   body_mass_g     sex  body_mass_kg  \n",
       "0       3750.0    Male          3.75  \n",
       "1       3800.0  Female          3.80  \n",
       "2       3250.0  Female          3.25  \n",
       "3          NaN     NaN           NaN  \n",
       "4       3450.0  Female          3.45  "
      ]
     },
     "execution_count": 65,
     "metadata": {},
     "output_type": "execute_result"
    }
   ],
   "source": [
    "penguins.head()"
   ]
  },
  {
   "cell_type": "markdown",
   "id": "f58d0acc-118c-44b1-a796-6f9a51bf0e58",
   "metadata": {},
   "source": [
    "## Assign multiple columns\n",
    "\n",
    "We can assign multiple columns in the same call by using the data frame’s assign() method. The general syntax is:\n",
    "\n",
    "```\n",
    "df.assign( new_col1_name = new_col1_values, \n",
    "           new_col2_name = new_col2_values)\n",
    "```\n",
    "\n",
    "Notice the new column names are not strings, we declare them as if we were creating variables.\n",
    "\n",
    "Ex: Suppose we want to add these new columns:\n",
    "\n",
    "- flipper length converted from mm to cm\n",
    "- a code representing the observer\n",
    "\n",
    "We can add these columns to penguins using assign():"
   ]
  },
  {
   "cell_type": "code",
   "execution_count": 66,
   "id": "cb6b9a7d-8d2d-489b-82ac-f8573f3e97ba",
   "metadata": {
    "tags": []
   },
   "outputs": [],
   "source": [
    "# create new columns in the data frame\n",
    "# random.choices used for random sampling with replacement\n",
    "\n",
    "# need to reassign output of assign() to update the data frame\n",
    "penguins = penguins.assign( flipper_length_cm = penguins.flipper_length_mm /10, \n",
    "                            observer = random.choices(['A','B','C'], k=len(penguins)))\n",
    "\n",
    "# why k?? Bc the documentation assigned it \"k\""
   ]
  },
  {
   "cell_type": "code",
   "execution_count": 67,
   "id": "12c54bbf-8496-4d04-94a1-503420453d35",
   "metadata": {
    "tags": []
   },
   "outputs": [],
   "source": [
    "# alternative: make the arraw separate\n",
    "observers = random.choices(['A','B','C'], \n",
    "                           k=len(penguins))\n",
    "\n",
    "# could just use \"observers\" in code above\n",
    "# penguins = penguins.assign( flipper_length_cm = penguins.flipper_length_mm /10, observers)"
   ]
  },
  {
   "cell_type": "markdown",
   "id": "a8bf3940-4258-4abf-b4b9-5e4ccabebd93",
   "metadata": {},
   "source": [
    "## Removing columns\n",
    "\n",
    "Use the drop() method\n",
    "\n",
    "Syntax:\n",
    "```\n",
    "df=df.drop(columns=col_names)\n",
    "```\n",
    "\n",
    "col_names can be a single one, or a list of column names\n",
    "\n",
    "Ex: drop flipper length in mm and body mass in g"
   ]
  },
  {
   "cell_type": "code",
   "execution_count": 68,
   "id": "449cc480-5320-4448-9902-49449624123f",
   "metadata": {
    "tags": []
   },
   "outputs": [
    {
     "name": "stdout",
     "output_type": "stream",
     "text": [
      "Index(['code', 'species', 'island', 'bill_length_mm', 'bill_depth_mm', 'sex',\n",
      "       'body_mass_kg', 'flipper_length_cm', 'observer'],\n",
      "      dtype='object')\n"
     ]
    }
   ],
   "source": [
    "# drop 'flipper_length_mm', 'body_mass_g' columns\n",
    "penguins=penguins.drop(columns=['flipper_length_mm', 'body_mass_g'])\n",
    "\n",
    "print(penguins.columns)"
   ]
  },
  {
   "cell_type": "markdown",
   "id": "99ddea01-d182-4e72-b897-267b1daf2147",
   "metadata": {},
   "source": [
    "## Updating values\n",
    "\n",
    "Sometimes we want to update certain values in our dataframes\n",
    "\n",
    "### Single value\n",
    "\n",
    "- `at[]`: select by labels\n",
    "- `iat[]`: select by integer index/positioon\n",
    "\n",
    "Syntax for `at[]`:\n",
    "\n",
    "```\n",
    "df.at[single_index_value, 'col_name']\n",
    "```\n",
    "\n",
    "It is the equivalend to loc when accessing a single value\n",
    "\n",
    "Ex: want to know bill length of penguin in 4th row"
   ]
  },
  {
   "cell_type": "code",
   "execution_count": 69,
   "id": "9e972158-a1fa-471c-a416-5f4fcc7f63c0",
   "metadata": {
    "tags": []
   },
   "outputs": [
    {
     "data": {
      "text/plain": [
       "nan"
      ]
     },
     "execution_count": 69,
     "metadata": {},
     "output_type": "execute_result"
    }
   ],
   "source": [
    "penguins.at[3, 'bill_length_mm']"
   ]
  },
  {
   "cell_type": "markdown",
   "id": "70701453-fc88-4ab9-b149-813605d1525e",
   "metadata": {},
   "source": [
    "We got an na, let's update to 38.3 mm using `at[]`"
   ]
  },
  {
   "cell_type": "code",
   "execution_count": 70,
   "id": "f263c2f7-bd73-4390-b570-581d4976b414",
   "metadata": {
    "tags": []
   },
   "outputs": [],
   "source": [
    "penguins.at[3, 'bill_length_mm'] = 38.3"
   ]
  },
  {
   "cell_type": "code",
   "execution_count": 71,
   "id": "8878e9b2-8aa9-4763-a293-897e6b9825e0",
   "metadata": {
    "tags": []
   },
   "outputs": [
    {
     "data": {
      "text/plain": [
       "38.3"
      ]
     },
     "execution_count": 71,
     "metadata": {},
     "output_type": "execute_result"
    }
   ],
   "source": [
    "penguins.at[3, 'bill_length_mm']"
   ]
  },
  {
   "cell_type": "code",
   "execution_count": 72,
   "id": "0da31972-5380-42e1-b84c-b970e67399a3",
   "metadata": {
    "tags": []
   },
   "outputs": [
    {
     "data": {
      "text/html": [
       "<div>\n",
       "<style scoped>\n",
       "    .dataframe tbody tr th:only-of-type {\n",
       "        vertical-align: middle;\n",
       "    }\n",
       "\n",
       "    .dataframe tbody tr th {\n",
       "        vertical-align: top;\n",
       "    }\n",
       "\n",
       "    .dataframe thead th {\n",
       "        text-align: right;\n",
       "    }\n",
       "</style>\n",
       "<table border=\"1\" class=\"dataframe\">\n",
       "  <thead>\n",
       "    <tr style=\"text-align: right;\">\n",
       "      <th></th>\n",
       "      <th>code</th>\n",
       "      <th>species</th>\n",
       "      <th>island</th>\n",
       "      <th>bill_length_mm</th>\n",
       "      <th>bill_depth_mm</th>\n",
       "      <th>sex</th>\n",
       "      <th>body_mass_kg</th>\n",
       "      <th>flipper_length_cm</th>\n",
       "      <th>observer</th>\n",
       "    </tr>\n",
       "  </thead>\n",
       "  <tbody>\n",
       "    <tr>\n",
       "      <th>0</th>\n",
       "      <td>502</td>\n",
       "      <td>Adelie</td>\n",
       "      <td>Torgersen</td>\n",
       "      <td>39.1</td>\n",
       "      <td>18.7</td>\n",
       "      <td>Male</td>\n",
       "      <td>3.75</td>\n",
       "      <td>18.1</td>\n",
       "      <td>B</td>\n",
       "    </tr>\n",
       "    <tr>\n",
       "      <th>1</th>\n",
       "      <td>999</td>\n",
       "      <td>Adelie</td>\n",
       "      <td>Torgersen</td>\n",
       "      <td>39.5</td>\n",
       "      <td>17.4</td>\n",
       "      <td>Female</td>\n",
       "      <td>3.80</td>\n",
       "      <td>18.6</td>\n",
       "      <td>C</td>\n",
       "    </tr>\n",
       "    <tr>\n",
       "      <th>2</th>\n",
       "      <td>703</td>\n",
       "      <td>Adelie</td>\n",
       "      <td>Torgersen</td>\n",
       "      <td>40.3</td>\n",
       "      <td>18.0</td>\n",
       "      <td>Female</td>\n",
       "      <td>3.25</td>\n",
       "      <td>19.5</td>\n",
       "      <td>B</td>\n",
       "    </tr>\n",
       "    <tr>\n",
       "      <th>3</th>\n",
       "      <td>983</td>\n",
       "      <td>Adelie</td>\n",
       "      <td>Torgersen</td>\n",
       "      <td>38.3</td>\n",
       "      <td>NaN</td>\n",
       "      <td>NaN</td>\n",
       "      <td>NaN</td>\n",
       "      <td>NaN</td>\n",
       "      <td>A</td>\n",
       "    </tr>\n",
       "    <tr>\n",
       "      <th>4</th>\n",
       "      <td>428</td>\n",
       "      <td>Adelie</td>\n",
       "      <td>Torgersen</td>\n",
       "      <td>36.7</td>\n",
       "      <td>19.3</td>\n",
       "      <td>Female</td>\n",
       "      <td>3.45</td>\n",
       "      <td>19.3</td>\n",
       "      <td>C</td>\n",
       "    </tr>\n",
       "  </tbody>\n",
       "</table>\n",
       "</div>"
      ],
      "text/plain": [
       "   code species     island  bill_length_mm  bill_depth_mm     sex  \\\n",
       "0   502  Adelie  Torgersen            39.1           18.7    Male   \n",
       "1   999  Adelie  Torgersen            39.5           17.4  Female   \n",
       "2   703  Adelie  Torgersen            40.3           18.0  Female   \n",
       "3   983  Adelie  Torgersen            38.3            NaN     NaN   \n",
       "4   428  Adelie  Torgersen            36.7           19.3  Female   \n",
       "\n",
       "   body_mass_kg  flipper_length_cm observer  \n",
       "0          3.75               18.1        B  \n",
       "1          3.80               18.6        C  \n",
       "2          3.25               19.5        B  \n",
       "3           NaN                NaN        A  \n",
       "4          3.45               19.3        C  "
      ]
     },
     "execution_count": 72,
     "metadata": {},
     "output_type": "execute_result"
    }
   ],
   "source": [
    "# let's use iat now\n",
    "\n",
    "penguins.iat[1,0] = 999\n",
    "penguins.head()"
   ]
  },
  {
   "cell_type": "markdown",
   "id": "5ad11b04-6a3b-43c6-a20a-c9924d677902",
   "metadata": {},
   "source": [
    "## Update multiple values in a column\n",
    "\n",
    "### By condition\n",
    "\n",
    "Think of `case_when` in R. \n",
    "\n",
    "Example: \n",
    "\n",
    "We want to classify penguins such that:\n",
    "\n",
    "- small penguins: body mass < 3kg\n",
    "- medium penguins: body mass between <=3kg - 5kg\n",
    "- big penguins above 5 kg\n",
    "\n",
    "We can use numpy.select to make a new column"
   ]
  },
  {
   "cell_type": "code",
   "execution_count": 73,
   "id": "04455d1c-8e52-49e9-a2f0-c551d4afdee7",
   "metadata": {
    "tags": []
   },
   "outputs": [
    {
     "data": {
      "text/html": [
       "<div>\n",
       "<style scoped>\n",
       "    .dataframe tbody tr th:only-of-type {\n",
       "        vertical-align: middle;\n",
       "    }\n",
       "\n",
       "    .dataframe tbody tr th {\n",
       "        vertical-align: top;\n",
       "    }\n",
       "\n",
       "    .dataframe thead th {\n",
       "        text-align: right;\n",
       "    }\n",
       "</style>\n",
       "<table border=\"1\" class=\"dataframe\">\n",
       "  <thead>\n",
       "    <tr style=\"text-align: right;\">\n",
       "      <th></th>\n",
       "      <th>code</th>\n",
       "      <th>species</th>\n",
       "      <th>island</th>\n",
       "      <th>bill_length_mm</th>\n",
       "      <th>bill_depth_mm</th>\n",
       "      <th>sex</th>\n",
       "      <th>body_mass_kg</th>\n",
       "      <th>flipper_length_cm</th>\n",
       "      <th>observer</th>\n",
       "      <th>size</th>\n",
       "    </tr>\n",
       "  </thead>\n",
       "  <tbody>\n",
       "    <tr>\n",
       "      <th>0</th>\n",
       "      <td>502</td>\n",
       "      <td>Adelie</td>\n",
       "      <td>Torgersen</td>\n",
       "      <td>39.1</td>\n",
       "      <td>18.7</td>\n",
       "      <td>Male</td>\n",
       "      <td>3.75</td>\n",
       "      <td>18.1</td>\n",
       "      <td>B</td>\n",
       "      <td>medium</td>\n",
       "    </tr>\n",
       "    <tr>\n",
       "      <th>1</th>\n",
       "      <td>999</td>\n",
       "      <td>Adelie</td>\n",
       "      <td>Torgersen</td>\n",
       "      <td>39.5</td>\n",
       "      <td>17.4</td>\n",
       "      <td>Female</td>\n",
       "      <td>3.80</td>\n",
       "      <td>18.6</td>\n",
       "      <td>C</td>\n",
       "      <td>medium</td>\n",
       "    </tr>\n",
       "    <tr>\n",
       "      <th>2</th>\n",
       "      <td>703</td>\n",
       "      <td>Adelie</td>\n",
       "      <td>Torgersen</td>\n",
       "      <td>40.3</td>\n",
       "      <td>18.0</td>\n",
       "      <td>Female</td>\n",
       "      <td>3.25</td>\n",
       "      <td>19.5</td>\n",
       "      <td>B</td>\n",
       "      <td>medium</td>\n",
       "    </tr>\n",
       "    <tr>\n",
       "      <th>3</th>\n",
       "      <td>983</td>\n",
       "      <td>Adelie</td>\n",
       "      <td>Torgersen</td>\n",
       "      <td>38.3</td>\n",
       "      <td>NaN</td>\n",
       "      <td>NaN</td>\n",
       "      <td>NaN</td>\n",
       "      <td>NaN</td>\n",
       "      <td>A</td>\n",
       "      <td>nan</td>\n",
       "    </tr>\n",
       "    <tr>\n",
       "      <th>4</th>\n",
       "      <td>428</td>\n",
       "      <td>Adelie</td>\n",
       "      <td>Torgersen</td>\n",
       "      <td>36.7</td>\n",
       "      <td>19.3</td>\n",
       "      <td>Female</td>\n",
       "      <td>3.45</td>\n",
       "      <td>19.3</td>\n",
       "      <td>C</td>\n",
       "      <td>medium</td>\n",
       "    </tr>\n",
       "  </tbody>\n",
       "</table>\n",
       "</div>"
      ],
      "text/plain": [
       "   code species     island  bill_length_mm  bill_depth_mm     sex  \\\n",
       "0   502  Adelie  Torgersen            39.1           18.7    Male   \n",
       "1   999  Adelie  Torgersen            39.5           17.4  Female   \n",
       "2   703  Adelie  Torgersen            40.3           18.0  Female   \n",
       "3   983  Adelie  Torgersen            38.3            NaN     NaN   \n",
       "4   428  Adelie  Torgersen            36.7           19.3  Female   \n",
       "\n",
       "   body_mass_kg  flipper_length_cm observer    size  \n",
       "0          3.75               18.1        B  medium  \n",
       "1          3.80               18.6        C  medium  \n",
       "2          3.25               19.5        B  medium  \n",
       "3           NaN                NaN        A     nan  \n",
       "4          3.45               19.3        C  medium  "
      ]
     },
     "execution_count": 73,
     "metadata": {},
     "output_type": "execute_result"
    }
   ],
   "source": [
    "# create list with conditions\n",
    "conditions = [penguins.body_mass_kg < 3, \n",
    "              (3 <= penguins.body_mass_kg) & (penguins.body_mass_kg < 5),\n",
    "              5 <= penguins.body_mass_kg]\n",
    "\n",
    "# create a list with the choices\n",
    "choices = [\"small\",\n",
    "           \"medium\",\n",
    "           \"large\"]\n",
    "\n",
    "# add the selections using np.select\n",
    "# default = value for anything that falls outside conditions\n",
    "penguins['size'] = np.select(conditions, choices, default=np.nan)\n",
    "\n",
    "penguins.head()"
   ]
  },
  {
   "cell_type": "markdown",
   "id": "f76740f5-d55b-4bf3-be2f-4b62d3f4058c",
   "metadata": {},
   "source": [
    "### Update a column by selecting values\n",
    "\n",
    "Sometimes want to update a few values that satisfy a condition. \n",
    "We can do this by selecting loc and then assigning a new value\n",
    "\n",
    "```\n",
    "# modifies data in place\n",
    "df.loc[row_selection, col_name] = new_values\n",
    "```\n",
    "\n",
    "where\n",
    "\n",
    "- row_selection is the rows we want to update,\n",
    "- col_name is a single column name, and\n",
    "- new_values is the new value or values we want. If using multiple values, then new_values must be of the same length as the number of rows selected\n",
    "\n",
    "Ex: Suppose we want to update the “Male” value in the sex column to “M”."
   ]
  },
  {
   "cell_type": "code",
   "execution_count": 74,
   "id": "61f584a9-b57d-4d47-a71e-e8746be8c89f",
   "metadata": {
    "tags": []
   },
   "outputs": [],
   "source": [
    "penguins.loc[penguins.sex==\"Male\", \"sex\"] = \"M\""
   ]
  },
  {
   "cell_type": "code",
   "execution_count": 75,
   "id": "fabd68a7-dc35-4985-b84e-c29e9d3c26ea",
   "metadata": {
    "tags": []
   },
   "outputs": [
    {
     "data": {
      "text/plain": [
       "array(['M', 'Female', nan], dtype=object)"
      ]
     },
     "execution_count": 75,
     "metadata": {},
     "output_type": "execute_result"
    }
   ],
   "source": [
    "penguins.sex.unique()"
   ]
  },
  {
   "cell_type": "markdown",
   "id": "614f2b6c-43b7-4f18-baac-31ff5256b980",
   "metadata": {
    "tags": []
   },
   "source": [
    "## `SettingWithCopyWarning`\n",
    "\n",
    "Suppose we wanted to update Female to F, this is an example that we might try but won't work\n"
   ]
  },
  {
   "cell_type": "code",
   "execution_count": 76,
   "id": "f40b449f-beb8-42d4-b6ad-3ca904e68b20",
   "metadata": {
    "tags": []
   },
   "outputs": [
    {
     "name": "stderr",
     "output_type": "stream",
     "text": [
      "/tmp/ipykernel_7789/3386515795.py:3: SettingWithCopyWarning: \n",
      "A value is trying to be set on a copy of a slice from a DataFrame.\n",
      "Try using .loc[row_indexer,col_indexer] = value instead\n",
      "\n",
      "See the caveats in the documentation: https://pandas.pydata.org/pandas-docs/stable/user_guide/indexing.html#returning-a-view-versus-a-copy\n",
      "  penguins[penguins.sex=='Female']['sex'] = 'F'\n"
     ]
    }
   ],
   "source": [
    "# select rows and columns with two selection brackets [][] (chained indexing), instead of loc[]\n",
    "# then trying to update the values\n",
    "penguins[penguins.sex=='Female']['sex'] = 'F'"
   ]
  },
  {
   "cell_type": "markdown",
   "id": "f5dd217a-7ddc-4467-821a-c187224a9908",
   "metadata": {},
   "source": [
    "When we select the data we want to update using chained indexing ([][]) instead of loc[] we get a SettingWithCopyWarning. Wit this warning, pandas is trying to alert us to a potential bug. In this case that we did not update our data frame:"
   ]
  },
  {
   "cell_type": "code",
   "execution_count": 77,
   "id": "44afe8b1-dc1a-4af9-b80a-ceaa0bb2955d",
   "metadata": {
    "tags": []
   },
   "outputs": [
    {
     "data": {
      "text/plain": [
       "array(['M', 'Female', nan], dtype=object)"
      ]
     },
     "execution_count": 77,
     "metadata": {},
     "output_type": "execute_result"
    }
   ],
   "source": [
    "# no values were updated\n",
    "penguins.sex.unique()"
   ]
  },
  {
   "cell_type": "markdown",
   "id": "3aed743f-9829-406c-a868-ae1a7cc608be",
   "metadata": {},
   "source": [
    "To see what is going on we need to understand that some pandas operations return a view to your data, while others return a copy of your data.\n",
    "\n",
    "- **Views** are actual subsets of the original data, when we update them, we are modifying the original data frame.\n",
    "\n",
    "- **Copies** are unique objects, independent of our original data frames. When we update a copy we are not modifying the original data frame.\n",
    "\n",
    "Depending on what we are trying to do we might want to modify the original data frame or we might want to modify a copy."
   ]
  },
  {
   "cell_type": "markdown",
   "id": "df3fb8bd-942a-47e2-be9b-1af5b3df6642",
   "metadata": {},
   "source": [
    "## Another `SettingWithCopyWarning`\n",
    "Another common situation where SettingWithCopyWarning comes up is when we try to update a subset of a data frame we have already stored in a new variable.\n",
    "\n",
    "Example\n",
    "\n",
    "Suppose we only want to use data from Biscoe island and, after doing some analyses, we want to add a new column to it:"
   ]
  },
  {
   "cell_type": "code",
   "execution_count": 78,
   "id": "e5beb1e1-2c69-4dda-abb3-3053977c5dfe",
   "metadata": {
    "tags": []
   },
   "outputs": [
    {
     "name": "stderr",
     "output_type": "stream",
     "text": [
      "/tmp/ipykernel_7789/1976065338.py:7: SettingWithCopyWarning: \n",
      "A value is trying to be set on a copy of a slice from a DataFrame.\n",
      "Try using .loc[row_indexer,col_indexer] = value instead\n",
      "\n",
      "See the caveats in the documentation: https://pandas.pydata.org/pandas-docs/stable/user_guide/indexing.html#returning-a-view-versus-a-copy\n",
      "  biscoe['sample_col'] = 100\n"
     ]
    }
   ],
   "source": [
    "# select penguins from Biscoe island\n",
    "biscoe = penguins[penguins.island=='Biscoe']\n",
    "\n",
    "# ... Imagine 50 lines of code here...\n",
    "\n",
    "# add a column, we get a warning\n",
    "biscoe['sample_col'] = 100"
   ]
  },
  {
   "cell_type": "markdown",
   "id": "f8d5baef-ebf2-4900-949d-215ecce5f3fa",
   "metadata": {},
   "source": [
    "It might not seem like it, but we have a chained assignment here too. We essentialy wrote:\n",
    "\n",
    "`penguins[penguins.island=='Biscoe']['sample_col'] = 100`"
   ]
  },
  {
   "cell_type": "markdown",
   "id": "fde19afa-0c49-4663-a723-0bcee329c24f",
   "metadata": {},
   "source": [
    "To fix this we can take **control of the copy-view situation and explicitely ask for a copy of the dataset when subsetting the data**. Use the copy() method to do this:"
   ]
  },
  {
   "cell_type": "code",
   "execution_count": 79,
   "id": "50d264ba-0210-4041-9ecb-5f5fc0ddf9f0",
   "metadata": {
    "tags": []
   },
   "outputs": [],
   "source": [
    "# make sure you get a new data frame with penguins from Biscoe island\n",
    "# I want this to be a copy!\n",
    "biscoe = penguins[penguins.island=='Biscoe'].copy()\n",
    "\n",
    "# add a column, no warning\n",
    "biscoe['sample_col'] = 100"
   ]
  },
  {
   "cell_type": "code",
   "execution_count": 80,
   "id": "d1919029-0598-4aca-96f6-7a5da95479e1",
   "metadata": {
    "tags": []
   },
   "outputs": [
    {
     "data": {
      "text/html": [
       "<div>\n",
       "<style scoped>\n",
       "    .dataframe tbody tr th:only-of-type {\n",
       "        vertical-align: middle;\n",
       "    }\n",
       "\n",
       "    .dataframe tbody tr th {\n",
       "        vertical-align: top;\n",
       "    }\n",
       "\n",
       "    .dataframe thead th {\n",
       "        text-align: right;\n",
       "    }\n",
       "</style>\n",
       "<table border=\"1\" class=\"dataframe\">\n",
       "  <thead>\n",
       "    <tr style=\"text-align: right;\">\n",
       "      <th></th>\n",
       "      <th>code</th>\n",
       "      <th>species</th>\n",
       "      <th>island</th>\n",
       "      <th>bill_length_mm</th>\n",
       "      <th>bill_depth_mm</th>\n",
       "      <th>sex</th>\n",
       "      <th>body_mass_kg</th>\n",
       "      <th>flipper_length_cm</th>\n",
       "      <th>observer</th>\n",
       "      <th>size</th>\n",
       "      <th>sample_col</th>\n",
       "    </tr>\n",
       "  </thead>\n",
       "  <tbody>\n",
       "    <tr>\n",
       "      <th>20</th>\n",
       "      <td>404</td>\n",
       "      <td>Adelie</td>\n",
       "      <td>Biscoe</td>\n",
       "      <td>37.8</td>\n",
       "      <td>18.3</td>\n",
       "      <td>Female</td>\n",
       "      <td>3.40</td>\n",
       "      <td>17.4</td>\n",
       "      <td>A</td>\n",
       "      <td>medium</td>\n",
       "      <td>100</td>\n",
       "    </tr>\n",
       "    <tr>\n",
       "      <th>21</th>\n",
       "      <td>382</td>\n",
       "      <td>Adelie</td>\n",
       "      <td>Biscoe</td>\n",
       "      <td>37.7</td>\n",
       "      <td>18.7</td>\n",
       "      <td>M</td>\n",
       "      <td>3.60</td>\n",
       "      <td>18.0</td>\n",
       "      <td>A</td>\n",
       "      <td>medium</td>\n",
       "      <td>100</td>\n",
       "    </tr>\n",
       "    <tr>\n",
       "      <th>22</th>\n",
       "      <td>306</td>\n",
       "      <td>Adelie</td>\n",
       "      <td>Biscoe</td>\n",
       "      <td>35.9</td>\n",
       "      <td>19.2</td>\n",
       "      <td>Female</td>\n",
       "      <td>3.80</td>\n",
       "      <td>18.9</td>\n",
       "      <td>C</td>\n",
       "      <td>medium</td>\n",
       "      <td>100</td>\n",
       "    </tr>\n",
       "    <tr>\n",
       "      <th>23</th>\n",
       "      <td>191</td>\n",
       "      <td>Adelie</td>\n",
       "      <td>Biscoe</td>\n",
       "      <td>38.2</td>\n",
       "      <td>18.1</td>\n",
       "      <td>M</td>\n",
       "      <td>3.95</td>\n",
       "      <td>18.5</td>\n",
       "      <td>B</td>\n",
       "      <td>medium</td>\n",
       "      <td>100</td>\n",
       "    </tr>\n",
       "    <tr>\n",
       "      <th>24</th>\n",
       "      <td>576</td>\n",
       "      <td>Adelie</td>\n",
       "      <td>Biscoe</td>\n",
       "      <td>38.8</td>\n",
       "      <td>17.2</td>\n",
       "      <td>M</td>\n",
       "      <td>3.80</td>\n",
       "      <td>18.0</td>\n",
       "      <td>C</td>\n",
       "      <td>medium</td>\n",
       "      <td>100</td>\n",
       "    </tr>\n",
       "  </tbody>\n",
       "</table>\n",
       "</div>"
      ],
      "text/plain": [
       "    code species  island  bill_length_mm  bill_depth_mm     sex  body_mass_kg  \\\n",
       "20   404  Adelie  Biscoe            37.8           18.3  Female          3.40   \n",
       "21   382  Adelie  Biscoe            37.7           18.7       M          3.60   \n",
       "22   306  Adelie  Biscoe            35.9           19.2  Female          3.80   \n",
       "23   191  Adelie  Biscoe            38.2           18.1       M          3.95   \n",
       "24   576  Adelie  Biscoe            38.8           17.2       M          3.80   \n",
       "\n",
       "    flipper_length_cm observer    size  sample_col  \n",
       "20               17.4        A  medium         100  \n",
       "21               18.0        A  medium         100  \n",
       "22               18.9        C  medium         100  \n",
       "23               18.5        B  medium         100  \n",
       "24               18.0        C  medium         100  "
      ]
     },
     "execution_count": 80,
     "metadata": {},
     "output_type": "execute_result"
    }
   ],
   "source": [
    "biscoe.head()"
   ]
  },
  {
   "cell_type": "code",
   "execution_count": null,
   "id": "f5eeeb1b-3e51-4377-ad6b-26ae9d595946",
   "metadata": {},
   "outputs": [],
   "source": []
  }
 ],
 "metadata": {
  "kernelspec": {
   "display_name": "Anaconda 3 (Base)",
   "language": "python",
   "name": "base"
  },
  "language_info": {
   "codemirror_mode": {
    "name": "ipython",
    "version": 3
   },
   "file_extension": ".py",
   "mimetype": "text/x-python",
   "name": "python",
   "nbconvert_exporter": "python",
   "pygments_lexer": "ipython3",
   "version": "3.9.13"
  }
 },
 "nbformat": 4,
 "nbformat_minor": 5
}
